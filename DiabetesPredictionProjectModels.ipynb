{
  "nbformat": 4,
  "nbformat_minor": 0,
  "metadata": {
    "colab": {
      "provenance": [],
      "authorship_tag": "ABX9TyPGDqCHlrdleEAftPoaEHJF",
      "include_colab_link": true
    },
    "kernelspec": {
      "name": "python3",
      "display_name": "Python 3"
    },
    "language_info": {
      "name": "python"
    }
  },
  "cells": [
    {
      "cell_type": "markdown",
      "metadata": {
        "id": "view-in-github",
        "colab_type": "text"
      },
      "source": [
        "<a href=\"https://colab.research.google.com/github/KhatijaBegum27/AI-ML-Projects/blob/main/DiabetesPredictionProjectModels.ipynb\" target=\"_parent\"><img src=\"https://colab.research.google.com/assets/colab-badge.svg\" alt=\"Open In Colab\"/></a>"
      ]
    },
    {
      "cell_type": "code",
      "execution_count": 1,
      "metadata": {
        "id": "p5I1S9jwj_iK"
      },
      "outputs": [],
      "source": [
        "!pip install gradio -q\n",
        "import gradio as gr"
      ]
    },
    {
      "cell_type": "code",
      "source": [
        "from sklearn.datasets import load_diabetes"
      ],
      "metadata": {
        "id": "ynXTmXPUkWjK"
      },
      "execution_count": 2,
      "outputs": []
    },
    {
      "cell_type": "code",
      "source": [
        "from sklearn.tree import DecisionTreeRegressor"
      ],
      "metadata": {
        "id": "82QF47SzktqA"
      },
      "execution_count": 3,
      "outputs": []
    },
    {
      "cell_type": "code",
      "source": [
        "from sklearn.model_selection import train_test_split"
      ],
      "metadata": {
        "id": "51b5Lu4VkwRs"
      },
      "execution_count": 4,
      "outputs": []
    },
    {
      "cell_type": "code",
      "source": [
        "diabetes = load_diabetes()"
      ],
      "metadata": {
        "id": "SuJ_aG9fk-mk"
      },
      "execution_count": 5,
      "outputs": []
    },
    {
      "cell_type": "code",
      "source": [
        "X, y = diabetes.data, diabetes.target"
      ],
      "metadata": {
        "id": "j-SBJ7WNlRz0"
      },
      "execution_count": 6,
      "outputs": []
    },
    {
      "cell_type": "code",
      "source": [
        "clf = DecisionTreeRegressor(max_depth=3, random_state=42).fit(X, y)"
      ],
      "metadata": {
        "id": "9nUoRvskljtL"
      },
      "execution_count": 7,
      "outputs": []
    },
    {
      "cell_type": "code",
      "source": [
        "def predict(bp, bmi, age):\n",
        "    data = [[0]*3 + [bp, bmi, 0, 0, 0, 0, age]]  # pick features manually\n",
        "    pred = clf.predict(data)[0]\n",
        "    return f\"Predicted Diabetes Risk Score: {pred:.2f}\""
      ],
      "metadata": {
        "id": "EWoQ_vfvmOmH"
      },
      "execution_count": 8,
      "outputs": []
    },
    {
      "cell_type": "code",
      "source": [
        "demo = gr.Interface(\n",
        "    fn=predict,\n",
        "    inputs=[gr.Number(label=\"Blood Pressure\"), gr.Number(label=\"BMI\"), gr.Number(label=\"Age\")],\n",
        "    outputs=\"text\",\n",
        "    title=\"Diabetes Risk Prediction (Decision Tree)\",\n",
        "    description=\"Predict diabetes progression risk score.\"\n",
        ")"
      ],
      "metadata": {
        "id": "Wqv8aO6ImvMT"
      },
      "execution_count": 9,
      "outputs": []
    },
    {
      "cell_type": "code",
      "source": [
        "demo.launch()"
      ],
      "metadata": {
        "colab": {
          "base_uri": "https://localhost:8080/",
          "height": 645
        },
        "id": "ZYy-DnUXnUx0",
        "outputId": "a2158f0e-fa43-4af3-89f2-8bdb3f6698a1"
      },
      "execution_count": 10,
      "outputs": [
        {
          "metadata": {
            "tags": null
          },
          "name": "stdout",
          "output_type": "stream",
          "text": [
            "It looks like you are running Gradio on a hosted Jupyter notebook, which requires `share=True`. Automatically setting `share=True` (you can turn this off by setting `share=False` in `launch()` explicitly).\n",
            "\n",
            "Colab notebook detected. To show errors in colab notebook, set debug=True in launch()\n",
            "* Running on public URL: https://c24959ef879b2d4b83.gradio.live\n",
            "\n",
            "This share link expires in 1 week. For free permanent hosting and GPU upgrades, run `gradio deploy` from the terminal in the working directory to deploy to Hugging Face Spaces (https://huggingface.co/spaces)\n"
          ]
        },
        {
          "data": {
            "text/html": [
              "<div><iframe src=\"https://c24959ef879b2d4b83.gradio.live\" width=\"100%\" height=\"500\" allow=\"autoplay; camera; microphone; clipboard-read; clipboard-write;\" frameborder=\"0\" allowfullscreen></iframe></div>"
            ],
            "text/plain": [
              "<IPython.core.display.HTML object>"
            ]
          },
          "metadata": {},
          "output_type": "display_data"
        },
        {
          "data": {
            "text/plain": []
          },
          "execution_count": 10,
          "metadata": {},
          "output_type": "execute_result"
        }
      ]
    },
    {
      "cell_type": "code",
      "source": [
        "from sklearn.model_selection import train_test_split\n",
        "from sklearn.tree import DecisionTreeRegressor\n",
        "from sklearn.ensemble import BaggingRegressor, RandomForestRegressor, GradientBoostingRegressor, AdaBoostRegressor\n",
        "import xgboost as xgb"
      ],
      "metadata": {
        "id": "5py8cZ__pDRr"
      },
      "execution_count": 11,
      "outputs": []
    },
    {
      "cell_type": "code",
      "source": [
        "# Train-test split\n",
        "X_train, X_test, y_train, y_test = train_test_split(X, y, test_size=0.2, random_state=42)"
      ],
      "metadata": {
        "id": "1pJps4QRpF_N"
      },
      "execution_count": 12,
      "outputs": []
    },
    {
      "cell_type": "code",
      "source": [
        "# Models\n",
        "models = {\n",
        "    \"Decision Tree\": DecisionTreeRegressor(max_depth=5, random_state=42),\n",
        "    \"Bagging\": BaggingRegressor(DecisionTreeRegressor(), n_estimators=50, random_state=42),\n",
        "    \"Random Forest\": RandomForestRegressor(n_estimators=100, random_state=42),\n",
        "    \"Gradient Boosting\": GradientBoostingRegressor(n_estimators=100, learning_rate=0.1, random_state=42),\n",
        "    \"AdaBoost\": AdaBoostRegressor(DecisionTreeRegressor(max_depth=3), n_estimators=100, learning_rate=0.1, random_state=42),\n",
        "    \"XGBoost\": xgb.XGBRegressor(n_estimators=100, learning_rate=0.1, max_depth=3, random_state=42, verbosity=0)\n",
        "}"
      ],
      "metadata": {
        "id": "2bZao743pOFh"
      },
      "execution_count": 13,
      "outputs": []
    },
    {
      "cell_type": "code",
      "source": [
        "# Fit all models\n",
        "for name, model in models.items():\n",
        "    model.fit(X_train, y_train)"
      ],
      "metadata": {
        "id": "_f0hBVenpmjC"
      },
      "execution_count": 14,
      "outputs": []
    },
    {
      "cell_type": "code",
      "source": [
        "# Risk interpretation function\n",
        "def interpret_score(score):\n",
        "    if score < 100:\n",
        "        return \"Low Risk\"\n",
        "    elif 100 <= score < 180:\n",
        "        return \"Moderate Risk \"\n",
        "    else:\n",
        "        return \"High Risk \""
      ],
      "metadata": {
        "id": "Ds_h1RBUqrD8"
      },
      "execution_count": 15,
      "outputs": []
    },
    {
      "cell_type": "code",
      "source": [
        "def predict(bp, bmi, age, model_name):\n",
        "    # pick features manually (bp, bmi, age)\n",
        "    data = [[0]*3 + [bp, bmi, 0, 0, 0, 0, age]]\n",
        "    pred = models[model_name].predict(data)[0]\n",
        "    category = interpret_score(pred)\n",
        "    return f\"{model_name} Prediction → Score: {pred:.2f} | Risk Level: {category}\""
      ],
      "metadata": {
        "id": "VRxRj4QLrwlT"
      },
      "execution_count": 16,
      "outputs": []
    },
    {
      "cell_type": "code",
      "source": [
        "demo = gr.Interface(\n",
        "    fn=predict,\n",
        "    inputs=[\n",
        "        gr.Number(label=\"Blood Pressure\"),\n",
        "        gr.Number(label=\"BMI\"),\n",
        "        gr.Number(label=\"Age\"),\n",
        "        gr.Radio(list(models.keys()), label=\"Choose Model\")\n",
        "    ],\n",
        "    outputs=\"text\",\n",
        "    title=\"Diabetes Risk Prediction (Ensembling & Boosting)\",\n",
        "    description=\"Compare Decision Tree, Bagging, Random Forest, Gradient Boosting, AdaBoost, and XGBoost with interpretable risk levels.\"\n",
        ")"
      ],
      "metadata": {
        "id": "-AwhUpxor29T"
      },
      "execution_count": 17,
      "outputs": []
    },
    {
      "cell_type": "code",
      "source": [
        "demo.launch()"
      ],
      "metadata": {
        "colab": {
          "base_uri": "https://localhost:8080/",
          "height": 645
        },
        "id": "aCRpAG1rseyl",
        "outputId": "d91035fd-d7c8-47e3-a292-13a2f4ceff93"
      },
      "execution_count": 18,
      "outputs": [
        {
          "output_type": "stream",
          "name": "stdout",
          "text": [
            "It looks like you are running Gradio on a hosted Jupyter notebook, which requires `share=True`. Automatically setting `share=True` (you can turn this off by setting `share=False` in `launch()` explicitly).\n",
            "\n",
            "Colab notebook detected. To show errors in colab notebook, set debug=True in launch()\n",
            "* Running on public URL: https://92ac3609836720d02d.gradio.live\n",
            "\n",
            "This share link expires in 1 week. For free permanent hosting and GPU upgrades, run `gradio deploy` from the terminal in the working directory to deploy to Hugging Face Spaces (https://huggingface.co/spaces)\n"
          ]
        },
        {
          "output_type": "display_data",
          "data": {
            "text/plain": [
              "<IPython.core.display.HTML object>"
            ],
            "text/html": [
              "<div><iframe src=\"https://92ac3609836720d02d.gradio.live\" width=\"100%\" height=\"500\" allow=\"autoplay; camera; microphone; clipboard-read; clipboard-write;\" frameborder=\"0\" allowfullscreen></iframe></div>"
            ]
          },
          "metadata": {}
        },
        {
          "output_type": "execute_result",
          "data": {
            "text/plain": []
          },
          "metadata": {},
          "execution_count": 18
        }
      ]
    }
  ]
}