{
  "nbformat": 4,
  "nbformat_minor": 0,
  "metadata": {
    "colab": {
      "provenance": [],
      "authorship_tag": "ABX9TyNystUwy292kcd2suzbUrsP",
      "include_colab_link": true
    },
    "kernelspec": {
      "name": "python3",
      "display_name": "Python 3"
    },
    "language_info": {
      "name": "python"
    }
  },
  "cells": [
    {
      "cell_type": "markdown",
      "metadata": {
        "id": "view-in-github",
        "colab_type": "text"
      },
      "source": [
        "<a href=\"https://colab.research.google.com/github/KhatijaBegum27/AI-ML-Projects/blob/main/ImageSimilartiyProject.ipynb\" target=\"_parent\"><img src=\"https://colab.research.google.com/assets/colab-badge.svg\" alt=\"Open In Colab\"/></a>"
      ]
    },
    {
      "cell_type": "code",
      "source": [
        "!pip install gradio scikit-learn matplotlib tensorflow -q"
      ],
      "metadata": {
        "id": "jhW6nteK2cYe"
      },
      "execution_count": 1,
      "outputs": []
    },
    {
      "cell_type": "code",
      "source": [
        "import numpy as np\n",
        "import matplotlib.pyplot as plt"
      ],
      "metadata": {
        "id": "IUwVbksKAGNh"
      },
      "execution_count": 2,
      "outputs": []
    },
    {
      "cell_type": "code",
      "source": [
        "from sklearn.decomposition import PCA\n",
        "from sklearn.neighbors import KDTree"
      ],
      "metadata": {
        "id": "oRJecqFqATE3"
      },
      "execution_count": 3,
      "outputs": []
    },
    {
      "cell_type": "code",
      "source": [
        "from tensorflow.keras.datasets import fashion_mnist"
      ],
      "metadata": {
        "id": "PS9wt0fNA9Yv"
      },
      "execution_count": 4,
      "outputs": []
    },
    {
      "cell_type": "code",
      "source": [
        "import gradio as gr\n",
        "from PIL import Image"
      ],
      "metadata": {
        "id": "Q5XJsLtxBSpc"
      },
      "execution_count": 5,
      "outputs": []
    },
    {
      "cell_type": "code",
      "source": [
        "(X_train, y_train), (X_test, y_test) = fashion_mnist.load_data()"
      ],
      "metadata": {
        "colab": {
          "base_uri": "https://localhost:8080/"
        },
        "id": "ZMvi-0RnBpg1",
        "outputId": "7bfc7f05-81d0-4949-f17e-d1612b9b3338"
      },
      "execution_count": 6,
      "outputs": [
        {
          "output_type": "stream",
          "name": "stdout",
          "text": [
            "Downloading data from https://storage.googleapis.com/tensorflow/tf-keras-datasets/train-labels-idx1-ubyte.gz\n",
            "\u001b[1m29515/29515\u001b[0m \u001b[32m━━━━━━━━━━━━━━━━━━━━\u001b[0m\u001b[37m\u001b[0m \u001b[1m0s\u001b[0m 0us/step\n",
            "Downloading data from https://storage.googleapis.com/tensorflow/tf-keras-datasets/train-images-idx3-ubyte.gz\n",
            "\u001b[1m26421880/26421880\u001b[0m \u001b[32m━━━━━━━━━━━━━━━━━━━━\u001b[0m\u001b[37m\u001b[0m \u001b[1m2s\u001b[0m 0us/step\n",
            "Downloading data from https://storage.googleapis.com/tensorflow/tf-keras-datasets/t10k-labels-idx1-ubyte.gz\n",
            "\u001b[1m5148/5148\u001b[0m \u001b[32m━━━━━━━━━━━━━━━━━━━━\u001b[0m\u001b[37m\u001b[0m \u001b[1m0s\u001b[0m 0us/step\n",
            "Downloading data from https://storage.googleapis.com/tensorflow/tf-keras-datasets/t10k-images-idx3-ubyte.gz\n",
            "\u001b[1m4422102/4422102\u001b[0m \u001b[32m━━━━━━━━━━━━━━━━━━━━\u001b[0m\u001b[37m\u001b[0m \u001b[1m1s\u001b[0m 0us/step\n"
          ]
        }
      ]
    },
    {
      "cell_type": "code",
      "source": [
        "X_train_flat = X_train.reshape(len(X_train), -1) / 255.0\n",
        "X_test_flat = X_test.reshape(len(X_test), -1) / 255.0"
      ],
      "metadata": {
        "id": "fIHcxpOBB0NT"
      },
      "execution_count": 7,
      "outputs": []
    },
    {
      "cell_type": "code",
      "source": [
        "pca = PCA(n_components=50, random_state=42)"
      ],
      "metadata": {
        "id": "z7opYvEYCF4S"
      },
      "execution_count": 8,
      "outputs": []
    },
    {
      "cell_type": "code",
      "source": [
        "X_train_pca = pca.fit_transform(X_train_flat)\n",
        "X_test_pca = pca.transform(X_test_flat)"
      ],
      "metadata": {
        "id": "gC3QxZ-JCRvF"
      },
      "execution_count": 9,
      "outputs": []
    },
    {
      "cell_type": "code",
      "source": [
        "tree = KDTree(X_train_pca, leaf_size=40)"
      ],
      "metadata": {
        "id": "AEzEgiUnC08w"
      },
      "execution_count": 10,
      "outputs": []
    },
    {
      "cell_type": "code",
      "source": [
        "labels_map = [\n",
        "    \"T-shirt/top\", \"Trouser\", \"Pullover\", \"Dress\", \"Coat\",\n",
        "    \"Sandal\", \"Shirt\", \"Sneaker\", \"Bag\", \"Ankle boot\"\n",
        "]"
      ],
      "metadata": {
        "id": "CcVDn9L0DJDW"
      },
      "execution_count": 11,
      "outputs": []
    },
    {
      "cell_type": "code",
      "source": [
        "dist, ind = tree.query(X_test_pca[:1000], k=1)  # test on 1k samples\n",
        "y_pred = y_train[ind.flatten()]\n",
        "acc = np.mean(y_pred == y_test[:1000])\n",
        "print(\"Retrieval Accuracy (Top-1):\", acc)"
      ],
      "metadata": {
        "colab": {
          "base_uri": "https://localhost:8080/"
        },
        "id": "aSUstfT8DZ6A",
        "outputId": "88a49b1a-7030-461c-bae2-6398caf605e2"
      },
      "execution_count": 12,
      "outputs": [
        {
          "output_type": "stream",
          "name": "stdout",
          "text": [
            "Retrieval Accuracy (Top-1): 0.831\n"
          ]
        }
      ]
    },
    {
      "cell_type": "code",
      "source": [
        "def find_similar(img):\n",
        "    img_gray = img.convert(\"L\")   # ensure grayscale\n",
        "    img_resized = img_gray.resize((28,28))\n",
        "    img_flat = np.array(img_resized).flatten().reshape(1, -1) / 255.0\n",
        "    img_pca = pca.transform(img_flat)\n",
        "\n",
        "    dist, ind = tree.query(img_pca, k=5)\n",
        "    neighbors = ind[0]\n",
        "\n",
        "    results = []\n",
        "    captions = []\n",
        "    for i in neighbors:\n",
        "        results.append(Image.fromarray(X_train[i]))\n",
        "        captions.append(labels_map[y_train[i]])\n",
        "    return results, {labels_map[y_train[i]]: 1.0 for i in neighbors}"
      ],
      "metadata": {
        "id": "FNpVTCRODzcs"
      },
      "execution_count": 13,
      "outputs": []
    },
    {
      "cell_type": "code",
      "source": [
        "with gr.Blocks() as demo:\n",
        "    gr.Markdown(\"## Image Similarity Project\")\n",
        "    with gr.Row():\n",
        "        inp = gr.Image(type=\"pil\", label=\"Upload a clothing image\")\n",
        "        gallery = gr.Gallery(label=\"Most Similar Images (Top-5)\", columns=5, height=\"auto\")\n",
        "    out_labels = gr.Label(num_top_classes=5, label=\"Predicted Similar Categories\")\n",
        "\n",
        "    inp.upload(find_similar, inputs=inp, outputs=[gallery, out_labels])"
      ],
      "metadata": {
        "id": "pRZfToe6E0jp"
      },
      "execution_count": 14,
      "outputs": []
    },
    {
      "cell_type": "code",
      "source": [
        "demo.launch()"
      ],
      "metadata": {
        "colab": {
          "base_uri": "https://localhost:8080/",
          "height": 645
        },
        "id": "xrF7j2pGFW3X",
        "outputId": "83836ef6-bebf-47af-eedf-66cf2d3a0242"
      },
      "execution_count": 15,
      "outputs": [
        {
          "output_type": "stream",
          "name": "stdout",
          "text": [
            "It looks like you are running Gradio on a hosted Jupyter notebook, which requires `share=True`. Automatically setting `share=True` (you can turn this off by setting `share=False` in `launch()` explicitly).\n",
            "\n",
            "Colab notebook detected. To show errors in colab notebook, set debug=True in launch()\n",
            "* Running on public URL: https://b70a4ad83dd5e30dd6.gradio.live\n",
            "\n",
            "This share link expires in 1 week. For free permanent hosting and GPU upgrades, run `gradio deploy` from the terminal in the working directory to deploy to Hugging Face Spaces (https://huggingface.co/spaces)\n"
          ]
        },
        {
          "output_type": "display_data",
          "data": {
            "text/plain": [
              "<IPython.core.display.HTML object>"
            ],
            "text/html": [
              "<div><iframe src=\"https://b70a4ad83dd5e30dd6.gradio.live\" width=\"100%\" height=\"500\" allow=\"autoplay; camera; microphone; clipboard-read; clipboard-write;\" frameborder=\"0\" allowfullscreen></iframe></div>"
            ]
          },
          "metadata": {}
        },
        {
          "output_type": "execute_result",
          "data": {
            "text/plain": []
          },
          "metadata": {},
          "execution_count": 15
        }
      ]
    }
  ]
}